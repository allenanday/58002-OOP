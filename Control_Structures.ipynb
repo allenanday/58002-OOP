{
  "nbformat": 4,
  "nbformat_minor": 0,
  "metadata": {
    "colab": {
      "provenance": [],
      "authorship_tag": "ABX9TyM7o23EmRJCQRybrJ0c/7Wq",
      "include_colab_link": true
    },
    "kernelspec": {
      "name": "python3",
      "display_name": "Python 3"
    },
    "language_info": {
      "name": "python"
    }
  },
  "cells": [
    {
      "cell_type": "markdown",
      "metadata": {
        "id": "view-in-github",
        "colab_type": "text"
      },
      "source": [
        "<a href=\"https://colab.research.google.com/github/allenanday/58002-OOP/blob/main/Control_Structures.ipynb\" target=\"_parent\"><img src=\"https://colab.research.google.com/assets/colab-badge.svg\" alt=\"Open In Colab\"/></a>"
      ]
    },
    {
      "cell_type": "markdown",
      "source": [
        "If Statement"
      ],
      "metadata": {
        "id": "CFXsQA1ov_Xz"
      }
    },
    {
      "cell_type": "code",
      "execution_count": 1,
      "metadata": {
        "colab": {
          "base_uri": "https://localhost:8080/"
        },
        "id": "qXxvuV_aq8wX",
        "outputId": "364e7089-f26c-4bb4-f88f-519d6469927e"
      },
      "outputs": [
        {
          "output_type": "stream",
          "name": "stdout",
          "text": [
            "a is greater than b\n"
          ]
        }
      ],
      "source": [
        "#if Statement\n",
        "a = 100\n",
        "b = 50\n",
        "if a>b:\n",
        "  print(\"a is greater than b\")"
      ]
    },
    {
      "cell_type": "markdown",
      "source": [
        "Elif Statement"
      ],
      "metadata": {
        "id": "yeheGmgbwE58"
      }
    },
    {
      "cell_type": "code",
      "source": [
        "#Elif Statement\n",
        "if a>b:\n",
        "  print(\"a is greater than b\")\n",
        "elif a<b:\n",
        "  print(\"a is less than b\")\n",
        "else:\n",
        "  print(\"a is equal to b\")"
      ],
      "metadata": {
        "id": "D-ZP98GtwHNR"
      },
      "execution_count": null,
      "outputs": []
    },
    {
      "cell_type": "markdown",
      "source": [
        "Short, Hand if"
      ],
      "metadata": {
        "id": "kAn2nimtwJnM"
      }
    },
    {
      "cell_type": "code",
      "source": [
        "if a==b: print(\"a is equal to b\")if a>b else print(\"a is less than b\")"
      ],
      "metadata": {
        "id": "iC9Xy1-DwLf4"
      },
      "execution_count": null,
      "outputs": []
    },
    {
      "cell_type": "code",
      "source": [
        "print(\"s>t and t<s\")"
      ],
      "metadata": {
        "id": "rhMXKRImwNfJ"
      },
      "execution_count": null,
      "outputs": []
    },
    {
      "cell_type": "markdown",
      "source": [
        "nested if statement"
      ],
      "metadata": {
        "id": "sl5MtQEYwRiH"
      }
    },
    {
      "cell_type": "code",
      "source": [
        "X = 41\n",
        "if x>10:\n",
        "  print(\"above 10\")\n",
        "  if x>20:\n",
        "   print(\"above 20\")\n",
        "  else:\n",
        "   print(\"below 20\")\n",
        "  if x>30:\n",
        "   print(\"below 30\")\n",
        "  else:\n",
        "     print(\"below 30\")\n",
        "else:\n",
        "  print(\"below 10\")"
      ],
      "metadata": {
        "id": "rgTuXey5wUJn"
      },
      "execution_count": null,
      "outputs": []
    },
    {
      "cell_type": "markdown",
      "source": [
        "Example 1"
      ],
      "metadata": {
        "id": "gYdIQGU5wgOT"
      }
    },
    {
      "cell_type": "code",
      "source": [
        "a = int(input(\"input your age: \"))\n",
        "\n",
        "if a >= 17:\n",
        "  print(\"you can vote\")\n",
        "\n",
        "else :\n",
        "  print(\"You're not allowed to vote\")"
      ],
      "metadata": {
        "id": "9P6TvnumwjCr"
      },
      "execution_count": null,
      "outputs": []
    },
    {
      "cell_type": "markdown",
      "source": [
        "Example 2"
      ],
      "metadata": {
        "id": "h04Sn-1_xzfj"
      }
    },
    {
      "cell_type": "code",
      "source": [
        "a = int(input(\"Enter Number: \"))\n",
        "\n",
        "if a>1:\n",
        "  print(\"POSITIVE\")\n",
        "elif a==0:\n",
        "  print(\"ZERO\")\n",
        "else:\n",
        "  print(\"NEGATIVE\")"
      ],
      "metadata": {
        "id": "tUILU8Wux27j"
      },
      "execution_count": null,
      "outputs": []
    },
    {
      "cell_type": "markdown",
      "source": [
        "Example 3"
      ],
      "metadata": {
        "id": "va4z5J87yyi6"
      }
    },
    {
      "cell_type": "code",
      "source": [
        "g = int(input(\"Enter Grade: \"))\n",
        "\n",
        "if g >= 70:\n",
        "  print(\"passed\")\n",
        "elif g > 65:\n",
        "  print(\"remedial\")\n",
        "elif g<= 64: \n",
        "  print(\"failed\")\n",
        "else:\n",
        "  print(\"note if grades is a negative number, it will not be accepted\")"
      ],
      "metadata": {
        "id": "23vr0vEOy2Vq"
      },
      "execution_count": null,
      "outputs": []
    }
  ]
}
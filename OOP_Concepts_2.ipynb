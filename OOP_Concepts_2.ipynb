{
  "nbformat": 4,
  "nbformat_minor": 0,
  "metadata": {
    "colab": {
      "provenance": [],
      "authorship_tag": "ABX9TyMA9GAtNM93Tzg/GDciCsiV",
      "include_colab_link": true
    },
    "kernelspec": {
      "name": "python3",
      "display_name": "Python 3"
    },
    "language_info": {
      "name": "python"
    }
  },
  "cells": [
    {
      "cell_type": "markdown",
      "metadata": {
        "id": "view-in-github",
        "colab_type": "text"
      },
      "source": [
        "<a href=\"https://colab.research.google.com/github/allenanday/58002-OOP/blob/main/OOP_Concepts_2.ipynb\" target=\"_parent\"><img src=\"https://colab.research.google.com/assets/colab-badge.svg\" alt=\"Open In Colab\"/></a>"
      ]
    },
    {
      "cell_type": "markdown",
      "source": [
        "Hands-on NO.1"
      ],
      "metadata": {
        "id": "9dVaSSz_-Yyb"
      }
    },
    {
      "cell_type": "markdown",
      "source": [
        "1. create a python program that displays the name of three studemts(Student 1, Student 2, and Student 3) and the term grades\n",
        "2. Create a class name Person and attributes - std1, std2, std3, pre, mid,fin\n",
        "3. Compute the average of each term grade using Grade () method\n",
        "4. information about student's grades must be hidden from others"
      ],
      "metadata": {
        "id": "AE91afgz_yDx"
      }
    },
    {
      "cell_type": "code",
      "source": [
        "# Define a class called Person that takes in student names and their grades\n",
        "class Person:\n",
        "    def __init__(self, student1, student2, student3, prelims, midterms, finals):\n",
        "        self.__student1 = student1\n",
        "        self.__student2 = student2\n",
        "        self.__student3 = student3\n",
        "        self.__prelims = prelims\n",
        "        self.__midterms = midterms\n",
        "        self.__finals = finals\n",
        "\n",
        "    # Method that calculates the average score for each assessment and returns them in a tuple\n",
        "    def calculate_grades(self):\n",
        "        avg_prelims = sum(self.__prelims) / len(self.__prelims)\n",
        "        avg_midterms = sum(self.__midterms) / len(self.__midterms)\n",
        "        avg_finals = sum(self.__finals) / len(self.__finals)\n",
        "        return (avg_prelims, avg_midterms, avg_finals)\n",
        "\n",
        "# Create an instance of the Person class with sample data\n",
        "person = Person(\"Allen\", \"Christian\", \"Tate\", [80, 85, 90], [75, 80, 85], [85, 90, 95])\n",
        "\n",
        "# Print the names of the students and their term grades\n",
        "print(\"Name of the students:\")\n",
        "print(person._Person__student1)\n",
        "print(person._Person__student2)\n",
        "print(person._Person__student3)\n",
        "\n",
        "print(\"\\nTerm Grades:\")\n",
        "prelim_avg, midterm_avg, final_avg = person.calculate_grades()\n",
        "print(\"Prelims:\", prelim_avg)\n",
        "print(\"Midterms:\", midterm_avg)\n",
        "print(\"Finals:\", final_avg)"
      ],
      "metadata": {
        "colab": {
          "base_uri": "https://localhost:8080/"
        },
        "id": "C8_8_LkHBJ1p",
        "outputId": "a810e050-9d41-444f-9109-48b355477d97"
      },
      "execution_count": 11,
      "outputs": [
        {
          "output_type": "stream",
          "name": "stdout",
          "text": [
            "Name of the students:\n",
            "Allen\n",
            "Christian\n",
            "Tate\n",
            "\n",
            "Term Grades:\n",
            "Prelims: 85.0\n",
            "Midterms: 80.0\n",
            "Finals: 90.0\n"
          ]
        }
      ]
    }
  ]
}
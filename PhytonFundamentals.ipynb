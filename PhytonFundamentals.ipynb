{
  "nbformat": 4,
  "nbformat_minor": 0,
  "metadata": {
    "colab": {
      "provenance": [],
      "authorship_tag": "ABX9TyPr0IVT+xE9ImUQ7XA8+lL0",
      "include_colab_link": true
    },
    "kernelspec": {
      "name": "python3",
      "display_name": "Python 3"
    },
    "language_info": {
      "name": "python"
    }
  },
  "cells": [
    {
      "cell_type": "markdown",
      "metadata": {
        "id": "view-in-github",
        "colab_type": "text"
      },
      "source": [
        "<a href=\"https://colab.research.google.com/github/allenanday/58002-OOP/blob/main/PhytonFundamentals.ipynb\" target=\"_parent\"><img src=\"https://colab.research.google.com/assets/colab-badge.svg\" alt=\"Open In Colab\"/></a>"
      ]
    },
    {
      "cell_type": "code",
      "execution_count": null,
      "metadata": {
        "id": "fS2JzuEAzdPH"
      },
      "outputs": [],
      "source": [
        "#Sinle Variabale\n",
        "\n",
        "x = 1 \n",
        "y = 2\n",
        "\n",
        "print(x)\n",
        "print(y)\n",
        "\n",
        "#multiple variable\n",
        "\n",
        "a = b = c = \"Anday\"\n",
        "print(a)\n",
        "print(b)\n",
        "print(c)\n",
        "\n",
        "#multiple variable with multiple values\n",
        "\n",
        "e, f, g = 1,2,3\n",
        "print(e)\n",
        "print(f)\n",
        "print(g)\n",
        "\n",
        "V = \"Allen\"\n",
        "U = \"Anday\"\n",
        "\n",
        "print(V)\n",
        "print(U)\n",
        "\n",
        "p = float(5)\n",
        "p\n",
        "\n",
        "f = \"anday\"\n",
        "g = 1.01\n",
        "\n",
        "print(type(f))\n",
        "print(type(g))"
      ]
    },
    {
      "cell_type": "code",
      "source": [
        "k = \"enjoying\"\n",
        "j = \"Phython programming is \"\n",
        "print(\"Phyton programming is \" + k)\n"
      ],
      "metadata": {
        "colab": {
          "base_uri": "https://localhost:8080/"
        },
        "id": "8Ap_ghgc3hEa",
        "outputId": "965c50af-9382-4cd9-fbb3-b59e3139c7c4"
      },
      "execution_count": 13,
      "outputs": [
        {
          "output_type": "stream",
          "name": "stdout",
          "text": [
            "Phyton programming is enjoying\n"
          ]
        }
      ]
    }
  ]
}
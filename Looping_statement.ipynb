{
  "nbformat": 4,
  "nbformat_minor": 0,
  "metadata": {
    "colab": {
      "provenance": [],
      "authorship_tag": "ABX9TyMS7LCeDCV0/FT1TQoowYLu",
      "include_colab_link": true
    },
    "kernelspec": {
      "name": "python3",
      "display_name": "Python 3"
    },
    "language_info": {
      "name": "python"
    }
  },
  "cells": [
    {
      "cell_type": "markdown",
      "metadata": {
        "id": "view-in-github",
        "colab_type": "text"
      },
      "source": [
        "<a href=\"https://colab.research.google.com/github/allenanday/58002-OOP/blob/main/Looping_statement.ipynb\" target=\"_parent\"><img src=\"https://colab.research.google.com/assets/colab-badge.svg\" alt=\"Open In Colab\"/></a>"
      ]
    },
    {
      "cell_type": "markdown",
      "source": [
        "\n",
        "For Loop"
      ],
      "metadata": {
        "id": "8r6sKMeI84eB"
      }
    },
    {
      "cell_type": "code",
      "source": [
        "week = [\"Sunday\", \"Monday\", \"Tuesday\", \"Wednesday\", \"Thursday\", \"Friday\", \"Saturday\"]\n",
        "for x in week:\n",
        "  print(x)\n",
        "     \n",
        "Sunday\n",
        "Monday\n",
        "Tuesday\n",
        "Wednesday\n",
        "Thursday\n",
        "Friday\n",
        "Saturday\n",
        "For Loop Through String"
      ],
      "metadata": {
        "colab": {
          "base_uri": "https://localhost:8080/",
          "height": 130
        },
        "id": "Csrf9wy985Yx",
        "outputId": "25a63b63-2eaf-4078-e15d-5f30880621c7"
      },
      "execution_count": 5,
      "outputs": [
        {
          "output_type": "error",
          "ename": "SyntaxError",
          "evalue": "ignored",
          "traceback": [
            "\u001b[0;36m  File \u001b[0;32m\"<ipython-input-5-8f592498a1c7>\"\u001b[0;36m, line \u001b[0;32m12\u001b[0m\n\u001b[0;31m    For Loop Through String\u001b[0m\n\u001b[0m        ^\u001b[0m\n\u001b[0;31mSyntaxError\u001b[0m\u001b[0;31m:\u001b[0m invalid syntax\n"
          ]
        }
      ]
    },
    {
      "cell_type": "markdown",
      "source": [
        "For Loop Using Break Statement"
      ],
      "metadata": {
        "id": "StQK-ngL9LDs"
      }
    },
    {
      "cell_type": "code",
      "source": [
        "for x in week:\n",
        "  print(x)\n",
        "  if x== \"Thursday\":\n",
        "    break\n",
        "     \n",
        "Sunday\n",
        "Monday\n",
        "Tuesday\n",
        "Wednesday\n",
        "Thursday\n",
        "To display only Thursday\n",
        "\n",
        "\n",
        "for x in week:\n",
        "  \n",
        "  if x == \"Thursday\":\n",
        "    print(x)\n",
        "    break\n",
        "     \n",
        "Thursday\n",
        "Range() Function\n",
        "\n",
        "\n",
        "for x in range(6):\n",
        "  print(x)\n",
        "     \n",
        "0\n",
        "1\n",
        "2\n",
        "3\n",
        "4\n",
        "5\n"
      ],
      "metadata": {
        "colab": {
          "base_uri": "https://localhost:8080/",
          "height": 130
        },
        "id": "KSO5Jq-29UyQ",
        "outputId": "c5c426cb-de26-435c-ecf9-da21abe1f51b"
      },
      "execution_count": 3,
      "outputs": [
        {
          "output_type": "error",
          "ename": "SyntaxError",
          "evalue": "ignored",
          "traceback": [
            "\u001b[0;36m  File \u001b[0;32m\"<ipython-input-3-ccb5c7c7292d>\"\u001b[0;36m, line \u001b[0;32m11\u001b[0m\n\u001b[0;31m    To display only Thursday\u001b[0m\n\u001b[0m       ^\u001b[0m\n\u001b[0;31mSyntaxError\u001b[0m\u001b[0;31m:\u001b[0m invalid syntax\n"
          ]
        }
      ]
    },
    {
      "cell_type": "markdown",
      "source": [
        "Nested Loops"
      ],
      "metadata": {
        "id": "7lk6jqgF9wU8"
      }
    },
    {
      "cell_type": "code",
      "source": [
        "adjective = [\"Red\", \"Big\", \"Tasty\"]\n",
        "fruits = [\"Apple\", \"Banana\", \"Cherry\"]\n",
        "for x in adjective:\n",
        "  for y in fruits:\n",
        "    print(x,y)\n",
        "     \n",
        "Red Apple\n",
        "Red Banana\n",
        "Red Cherry\n",
        "Big Apple\n",
        "Big Banana\n",
        "Big Cherry\n",
        "Tasty Apple\n",
        "Tasty Banana\n",
        "Tasty Cherry\n",
        "While Loop\n",
        "\n",
        "\n",
        "i = 1\n",
        "while i <= 6:\n",
        "  print(i)\n",
        "  i += 1\n",
        "     \n",
        "1\n",
        "2\n",
        "3\n",
        "4\n",
        "5\n",
        "6"
      ],
      "metadata": {
        "colab": {
          "base_uri": "https://localhost:8080/",
          "height": 130
        },
        "id": "oQyCsFRQ9x8s",
        "outputId": "027c95e2-de81-434b-a771-f8b529c6fe6c"
      },
      "execution_count": 4,
      "outputs": [
        {
          "output_type": "error",
          "ename": "SyntaxError",
          "evalue": "ignored",
          "traceback": [
            "\u001b[0;36m  File \u001b[0;32m\"<ipython-input-4-512825f01034>\"\u001b[0;36m, line \u001b[0;32m7\u001b[0m\n\u001b[0;31m    Red Apple\u001b[0m\n\u001b[0m        ^\u001b[0m\n\u001b[0;31mSyntaxError\u001b[0m\u001b[0;31m:\u001b[0m invalid syntax\n"
          ]
        }
      ]
    }
  ]
}